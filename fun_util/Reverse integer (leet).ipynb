{
 "cells": [
  {
   "cell_type": "code",
   "execution_count": 1,
   "metadata": {
    "collapsed": true
   },
   "outputs": [
    {
     "name": "stdout",
     "output_type": "stream",
     "text": [
      "larger than 0 snum 12\n"
     ]
    },
    {
     "data": {
      "text/plain": "21"
     },
     "execution_count": 1,
     "metadata": {},
     "output_type": "execute_result"
    }
   ],
   "source": [
    "class Solution:\n",
    "    def reverse(self, x: int) -> int:\n",
    "        snum = str(x)\n",
    "        res = ''\n",
    "\n",
    "        if snum[0] == '-':\n",
    "            res = '-'\n",
    "            snum = snum[1:]\n",
    "            print(f'snum {snum}')\n",
    "\n",
    "        if len(snum) > 1:\n",
    "            snum = snum.rstrip('0')\n",
    "\n",
    "        snum = snum[::-1]\n",
    "\n",
    "        res = res + snum\n",
    "\n",
    "        if int(res) > 2**31 - 1 or int(res) < -2**31:\n",
    "            return 0\n",
    "        else:\n",
    "            return int(res)\n",
    "\n",
    "my_val = 120\n",
    "my_rev=Solution()\n",
    "my_rev.reverse(my_val)"
   ]
  }
 ],
 "metadata": {
  "kernelspec": {
   "display_name": "Python 3",
   "language": "python",
   "name": "python3"
  },
  "language_info": {
   "codemirror_mode": {
    "name": "ipython",
    "version": 2
   },
   "file_extension": ".py",
   "mimetype": "text/x-python",
   "name": "python",
   "nbconvert_exporter": "python",
   "pygments_lexer": "ipython2",
   "version": "2.7.6"
  }
 },
 "nbformat": 4,
 "nbformat_minor": 0
}