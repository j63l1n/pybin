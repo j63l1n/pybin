{
 "cells": [
  {
   "cell_type": "code",
   "execution_count": 1,
   "metadata": {},
   "outputs": [],
   "source": [
    "class LinkedNode:\n",
    "    def __init__(self, value, tail = None):\n",
    "        \"\"\"Node in a Linked List.\"\"\"\n",
    "        self.value = value\n",
    "        self.next  = tail"
   ]
  },
  {
   "cell_type": "code",
   "execution_count": null,
   "metadata": {},
   "outputs": [],
   "source": [
    "class QueueLinkedList:\n",
    "    def __init__(self, *start):\n",
    "        \"\"\"Demonstrate queue using linked list in Python.\"\"\"\n",
    "        self.head = None\n",
    "        self.tail = None\n",
    "        for _ in start:\n",
    "            self.add(_)\n",
    "\n",
    "    def append(self, value):\n",
    "        \"\"\"Add value to end of queue. Constant time O(1) \"\"\"\n",
    "        newNode = LinkedNode(value, None)\n",
    "        if self.head is None:\n",
    "            self.head = self.tail = newNode #both head and tail points to newNode\n",
    "        else:\n",
    "            self.tail.next = newNode\n",
    "            self.tail = newNode\n",
    "\n",
    "    def isEmpty(self):\n",
    "        \"\"\"Determine if queue is empty.\"\"\"\n",
    "        return self.head == None\n",
    "\n",
    "    def pop(self):\n",
    "        \"\"\"Remove first value from queue.\"\"\"\n",
    "        if self.head is None:\n",
    "            raise Exception (\"Queue is empty.\")\n",
    "        val = self.head.value\n",
    "        self.head = self.head.next\n",
    "        if self.head is None:\n",
    "            self.tail = None\n",
    "        return val\n",
    "\n",
    "    def __iter__(self):\n",
    "        \"\"\"Iterator of values in queue.\"\"\"\n",
    "        n = self.head\n",
    "        while n != None:\n",
    "            yield n.value\n",
    "            n = n.next\n",
    "\n",
    "    def __repr__(self):\n",
    "        \"\"\"String representation of queue.\"\"\"\n",
    "        if self.head is None:\n",
    "            return 'queue:[]'\n",
    "\n",
    "        return 'queue:[{0:s}]'.format(','.join(map(str,self)))\n",
    "\n",
    "    def __len__(self):\n",
    "        \"\"\"Count values in queue.\"\"\"\n",
    "        n = self.head\n",
    "        count = 0\n",
    "        while n != None:\n",
    "            count += 1\n",
    "            n = n.next\n",
    "        return count\n"
   ]
  }
 ],
 "metadata": {
  "kernelspec": {
   "display_name": "Python 3",
   "language": "python",
   "name": "python3"
  },
  "language_info": {
   "codemirror_mode": {
    "name": "ipython",
    "version": 3
   },
   "file_extension": ".py",
   "mimetype": "text/x-python",
   "name": "python",
   "nbconvert_exporter": "python",
   "pygments_lexer": "ipython3",
   "version": "3.6.9"
  }
 },
 "nbformat": 4,
 "nbformat_minor": 4
}
