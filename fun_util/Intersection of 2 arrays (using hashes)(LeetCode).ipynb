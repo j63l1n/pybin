{
 "cells": [
  {
   "cell_type": "markdown",
   "metadata": {},
   "source": [
    "<h1>Intersection of 2 arrays II (LeetCode) using hashes"
   ]
  },
  {
   "cell_type": "code",
   "execution_count": 3,
   "metadata": {},
   "outputs": [
    {
     "data": {
      "text/plain": [
       "[1]"
      ]
     },
     "execution_count": 3,
     "metadata": {},
     "output_type": "execute_result"
    }
   ],
   "source": [
    "from typing import List\n",
    "\n",
    "class Solution:\n",
    "    def intersect(self, nums1: List[int], nums2: List[int]) -> List[int]:\n",
    "        m = {}\n",
    "        if len(nums1) < len(nums2):\n",
    "            nums1,nums2 = nums2,nums1\n",
    "        for i in nums1:\n",
    "            if i not in m:\n",
    "                m[i] = 1\n",
    "            else:\n",
    "                m[i] += 1\n",
    "        result = []\n",
    "        for i in nums2:\n",
    "            if i in m and m[i]:\n",
    "                m[i] -= 1\n",
    "                result.append(i)\n",
    "        return result\n",
    "nums1=[1,2]\n",
    "nums2=[1,1]\n",
    "getintersect = Solution()\n",
    "getintersect.intersect(nums1, nums2)\n"
   ]
  },
  {
   "cell_type": "markdown",
   "metadata": {},
   "source": [
    "```\n",
    "Follow-up Questions\n",
    "\n",
    "What if the given array is already sorted? How would you optimize your algorithm?\n",
    "\n",
    "We can use either Approach 2 or Approach 3, dropping the sort of course. It will give us linear time and constant memory complexity.\n",
    "What if nums1's size is small compared to nums2's size? Which algorithm is better?\n",
    "\n",
    "Approach 1 is a good choice here as we use a hash map for the smaller array.\n",
    "What if elements of nums2 are stored on disk, and the memory is limited such that you cannot load all elements into the memory at once?\n",
    "\n",
    "If nums1 fits into the memory, we can use Approach 1 to collect counts for nums1 into a hash map. Then, we can sequentially load and process nums2.\n",
    "\n",
    "If neither of the arrays fit into the memory, we can apply some partial processing strategies:\n",
    "\n",
    "Split the numeric range into subranges that fits into the memory. Modify Approach 1 to collect counts only within a given subrange, and call the method multiple times (for each subrange).\n",
    "\n",
    "Use an external sort for both arrays. Modify Approach 2 to load and process arrays sequentially.\n",
    "\n",
    "```"
   ]
  }
 ],
 "metadata": {
  "kernelspec": {
   "display_name": "Python 3",
   "language": "python",
   "name": "python3"
  },
  "language_info": {
   "codemirror_mode": {
    "name": "ipython",
    "version": 3
   },
   "file_extension": ".py",
   "mimetype": "text/x-python",
   "name": "python",
   "nbconvert_exporter": "python",
   "pygments_lexer": "ipython3",
   "version": "3.6.9"
  }
 },
 "nbformat": 4,
 "nbformat_minor": 4
}
