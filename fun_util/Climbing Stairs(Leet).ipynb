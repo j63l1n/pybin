{
 "cells": [
  {
   "cell_type": "code",
   "execution_count": 3,
   "metadata": {
    "collapsed": true
   },
   "outputs": [],
   "source": []
  },
  {
   "cell_type": "code",
   "execution_count": 4,
   "outputs": [
    {
     "name": "stdout",
     "output_type": "stream",
     "text": [
      "89\n"
     ]
    }
   ],
   "source": [
    "class Solution:\n",
    "    \"\"\"Climbing stairs Leet\"\"\"\n",
    "    def count_ways_util(self, stairs, sliding_window):\n",
    "        res = [0 for x in range(stairs)]\n",
    "        res[0], res[1] = 1, 1\n",
    "\n",
    "        for i in range(2, stairs):\n",
    "            j = 1\n",
    "            while j <= sliding_window and j <= i:\n",
    "                res[i] = res[i] + res[i-j]\n",
    "                j = j + 1\n",
    "        return res[stairs-1]\n",
    "\n",
    "    def climb_stairs(self, stairs: int) -> int:\n",
    "        if 1 <= stairs <= 45:\n",
    "            sliding_window = 2\n",
    "            stairs += 1\n",
    "            return self.count_ways_util(stairs, sliding_window)\n",
    "\n",
    "mystair=10\n",
    "climb = Solution()\n",
    "print(f'{climb.climb_stairs(mystair)}')"
   ],
   "metadata": {
    "collapsed": false,
    "pycharm": {
     "name": "#%%\n"
    }
   }
  }
 ],
 "metadata": {
  "kernelspec": {
   "display_name": "Python 3",
   "language": "python",
   "name": "python3"
  },
  "language_info": {
   "codemirror_mode": {
    "name": "ipython",
    "version": 2
   },
   "file_extension": ".py",
   "mimetype": "text/x-python",
   "name": "python",
   "nbconvert_exporter": "python",
   "pygments_lexer": "ipython2",
   "version": "2.7.6"
  }
 },
 "nbformat": 4,
 "nbformat_minor": 0
}