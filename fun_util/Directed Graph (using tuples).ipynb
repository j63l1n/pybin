{
 "cells": [
  {
   "cell_type": "code",
   "execution_count": 10,
   "metadata": {},
   "outputs": [],
   "source": [
    "class DirectedGraph:\n",
    "    \"\"\"Adjency List Directed Graph\"\"\"\n",
    "    def __init__(self, size):\n",
    "        self.size = size\n",
    "        self.vert = [None]*size\n",
    "\n",
    "    def __len__(self):\n",
    "        return self.size\n",
    "\n",
    "    def add_edge(self, u, v, weight):\n",
    "        if self.vert[u] is None:\n",
    "            self.vert[u] = []\n",
    "\n",
    "        for edge in self.vert[u]:\n",
    "            if edge[0] == v:\n",
    "                self.vert[u].remove(edge)\n",
    "                break\n",
    "\n",
    "        self.vert[u].append((v, weight))\n",
    "\n",
    "    def neighbors(self, u):\n",
    "        if self.vert[u]:\n",
    "            for e in self.vert[u]:\n",
    "                yield (e)\n",
    "\n",
    "    def __repr__(self):\n",
    "        rep = 'graph:['\n",
    "        for u in range(self.size):\n",
    "            if self.vert[u]:\n",
    "                rep += str(u) + \":\"\n",
    "                rep += ','.join(map(str,self.vert[u]))\n",
    "                rep += ';'\n",
    "        return rep + ']'\n"
   ]
  },
  {
   "cell_type": "code",
   "execution_count": 11,
   "metadata": {},
   "outputs": [
    {
     "data": {
      "text/plain": "graph:[]"
     },
     "execution_count": 11,
     "metadata": {},
     "output_type": "execute_result"
    }
   ],
   "source": [
    "b = DirectedGraph(3)\n",
    "b"
   ]
  },
  {
   "cell_type": "code",
   "execution_count": 12,
   "metadata": {},
   "outputs": [
    {
     "data": {
      "text/plain": "graph:[0:(1, 99),(2, 88);]"
     },
     "execution_count": 12,
     "metadata": {},
     "output_type": "execute_result"
    }
   ],
   "source": [
    "b.add_edge(0,1,99)\n",
    "b.add_edge(0,2,88)\n",
    "b"
   ]
  },
  {
   "cell_type": "code",
   "execution_count": 12,
   "metadata": {},
   "outputs": [],
   "source": []
  }
 ],
 "metadata": {
  "kernelspec": {
   "display_name": "Python 3",
   "language": "python",
   "name": "python3"
  },
  "language_info": {
   "codemirror_mode": {
    "name": "ipython",
    "version": 3
   },
   "file_extension": ".py",
   "mimetype": "text/x-python",
   "name": "python",
   "nbconvert_exporter": "python",
   "pygments_lexer": "ipython3",
   "version": "3.6.9"
  }
 },
 "nbformat": 4,
 "nbformat_minor": 4
}