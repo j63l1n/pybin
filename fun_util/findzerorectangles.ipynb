{
 "cells": [
  {
   "cell_type": "markdown",
   "metadata": {},
   "source": [
    "```\n",
    "input = [\n",
    "            [1, 1, 1, 1, 1, 1, 1],\n",
    "            [1, 1, 1, 1, 1, 1, 1],\n",
    "            [1, 1, 1, 0, 0, 0, 1],\n",
    "            [1, 0, 1, 0, 0, 0, 1],\n",
    "            [1, 0, 1, 1, 1, 1, 1],\n",
    "            [1, 0, 1, 0, 0, 0, 0],\n",
    "            [1, 1, 1, 0, 0, 0, 1],\n",
    "            [1, 1, 1, 1, 1, 1, 1]\n",
    "         ]\n",
    "\n",
    "output:\n",
    "[\n",
    "    [2, 3, 3, 5], [3, 1, 5, 1], [5, 3, 6, 5]\n",
    "]\n",
    "```\n",
    "Explanation:\n",
    "We have three rectangles, starting from (2,3),(3,1),(5,3)"
   ]
  },
  {
   "cell_type": "code",
   "execution_count": 40,
   "metadata": {},
   "outputs": [],
   "source": [
    "def findend(row,col,field,output,index): \n",
    "    total_rows = len(field) \n",
    "    total_columns = len(field[0]) \n",
    "  \n",
    "    # flag to check column edge case, \n",
    "    # initializing with 0 \n",
    "    column_flag = 0\n",
    "  \n",
    "    # flag to check row edge case, \n",
    "    # initializing with 0 \n",
    "    row_flag = 0\n",
    "  \n",
    "    for this_row in range(row,total_rows):  \n",
    "  \n",
    "        # loop breaks where first 1 encounters \n",
    "        if field[this_row][col] == 1:  \n",
    "            row_flag = 1 # set the flag \n",
    "            break\n",
    "  \n",
    "        # pass because already processed \n",
    "        if field[this_row][col] == -99:  \n",
    "            pass\n",
    "  \n",
    "        for this_col in range(col, total_columns):  \n",
    "  \n",
    "            # loop breaks where first 1 encounters \n",
    "            if field[this_row][this_col] == 1: \n",
    "                column_flag = 1 # set the flag \n",
    "                break\n",
    "  \n",
    "            # fill rectangle elements with any \n",
    "            # number so that we can exclude \n",
    "            # next time \n",
    "            field[this_row][this_col] = -99\n",
    "            # print(f'this is n {n}')\n",
    "  \n",
    "    if row_flag == 1: \n",
    "        output[index].append( this_row-1) \n",
    "    else: \n",
    "        # when end point touch the boundary \n",
    "        print(f' We hit the row end boundary {this_row}')\n",
    "        output[index].append(this_row)  \n",
    "  \n",
    "    if column_flag == 1: \n",
    "        # print(f'flag column set and n is {n}')\n",
    "        output[index].append(this_col-1)\n",
    "        \n",
    "    else: \n",
    "        # when end point touch the boundary \n",
    "        print(f'we hit the column boundary with this_col {this_col}')\n",
    "        output[index].append(this_col)  \n",
    "        \n",
    "\n",
    "    \n",
    "    \n",
    "\n",
    "def get_rectangle_coordinates(field):\n",
    "    \"\"\"Get rectangle coordinates with 0's\"\"\"\n",
    "    size_of_field = len(field)\n",
    "    output = []\n",
    "    index = -1\n",
    "    \n",
    "    for row in range(0, size_of_field):\n",
    "        for col in range(0, len(field[0])):\n",
    "            if field[row][col] == 0:\n",
    "                output.append([row,col])\n",
    "                index = index + 1\n",
    "                findend(row, col, field, output, index)\n",
    "    print(output)\n",
    "    print(type(output))\n",
    "    "
   ]
  },
  {
   "cell_type": "code",
   "execution_count": 41,
   "metadata": {},
   "outputs": [
    {
     "name": "stdout",
     "output_type": "stream",
     "text": [
      "[[2, 3, 3, 5], [4, 1, 6, 1], [6, 3, 7, 5]]\n",
      "<class 'list'>\n"
     ]
    }
   ],
   "source": [
    "tests = [\n",
    "    [1, 1, 1, 1, 1, 1, 1],\n",
    "    [1, 1, 1, 1, 1, 1, 1],\n",
    "    [1, 1, 1, 0, 0, 0, 1],\n",
    "    [1, 1, 1, 0, 0, 0, 1],\n",
    "    [1, 0, 1, 1, 1, 1, 1],\n",
    "    [1, 0, 1, 1, 1, 1, 1],\n",
    "    [1, 0, 1, 0, 0, 0, 0],\n",
    "    [1, 1, 1, 0, 0, 0, 1],\n",
    "    [1, 1, 1, 1, 1, 1, 1]\n",
    "]\n",
    "\n",
    "get_rectangle_coordinates(tests)"
   ]
  },
  {
   "cell_type": "code",
   "execution_count": null,
   "metadata": {},
   "outputs": [],
   "source": []
  }
 ],
 "metadata": {
  "kernelspec": {
   "display_name": "Python 3",
   "language": "python",
   "name": "python3"
  },
  "language_info": {
   "codemirror_mode": {
    "name": "ipython",
    "version": 3
   },
   "file_extension": ".py",
   "mimetype": "text/x-python",
   "name": "python",
   "nbconvert_exporter": "python",
   "pygments_lexer": "ipython3",
   "version": "3.6.9"
  }
 },
 "nbformat": 4,
 "nbformat_minor": 4
}
