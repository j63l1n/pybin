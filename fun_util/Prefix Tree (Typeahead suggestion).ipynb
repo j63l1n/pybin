{
 "cells": [
  {
   "cell_type": "code",
   "execution_count": 4,
   "metadata": {},
   "outputs": [],
   "source": [
    "\n",
    "WordKey = '\\n' #any character not 'a' .. 'z'\n",
    "\n",
    "def traverse(d, prefix):\n",
    "    \"\"\"Recursively generate all words in the Prefix Tree.\"\"\"\n",
    "    for k in d:\n",
    "        if k == WordKey:\n",
    "            yield prefix\n",
    "        else:\n",
    "            for _ in traverse(d[k], prefix + k):\n",
    "                yield _\n",
    "\n",
    "class PrefixTree:\n",
    "    def __init__(self, *start):\n",
    "        \"\"\"Demonstrate prefix tree in Python give strings.\"\"\"\n",
    "        self.head  = {}\n",
    "        self.count = 0\n",
    "        self.numDictionaries = 1\n",
    "        for _ in start:\n",
    "            self.add(_.lower())\n",
    "\n",
    "    def add(self, value):\n",
    "        \"\"\"Add value to prefix tree. Return True if updated\"\"\"\n",
    "        d = self.head\n",
    "        while len(value) > 0:\n",
    "            if value[0] not in d:\n",
    "                d[value[0]] = {}\n",
    "                self.numDictionaries += 1\n",
    "\n",
    "            d = d[value[0]]\n",
    "            value = value[1:]\n",
    "\n",
    "        if WordKey in d:\n",
    "            return False\n",
    "        d[WordKey] = True\n",
    "        self.count += 1\n",
    "        return True\n",
    "\n",
    "    def remove(self, value):\n",
    "        \"\"\"Remove value from prefix tree.\"\"\"\n",
    "        d = self.head\n",
    "        while len(value) > 0:\n",
    "            if value[0] not in d:\n",
    "                return False\n",
    "\n",
    "            d = d[value[0]]\n",
    "            value = value[1:]\n",
    "\n",
    "        if WordKey not in d:\n",
    "            return False\n",
    "        del d[WordKey]\n",
    "        self.count -= 1\n",
    "        return True\n",
    "\n",
    "    # this will map to the \"in\" function that python provides\n",
    "    def __contains__(self, value):\n",
    "        \"\"\"Determine if value is contained in the prefix tree.\"\"\"\n",
    "        d = self.head\n",
    "        while len(value) > 0:\n",
    "            if value[0] not in d:\n",
    "                return False\n",
    "\n",
    "            d = d[value[0]]\n",
    "            value = value[1:]\n",
    "\n",
    "        return WordKey in d\n",
    "\n",
    "    def __iter__(self):\n",
    "        \"\"\"Iterate over all values.\"\"\"\n",
    "        for _ in traverse(self.head, ''):\n",
    "            yield _\n",
    "\n",
    "    def __repr__(self):\n",
    "        \"\"\"Representation of prefix tree.\"\"\"\n",
    "        return 'prefix: {0:d} entries in {1:d} dicts'.format(\n",
    "           self.count, self.numDictionaries)\n",
    "\n",
    "    def __len__(self):\n",
    "        \"\"\"Count values in tree.\"\"\"\n",
    "        return self.count\n"
   ]
  },
  {
   "cell_type": "code",
   "execution_count": 5,
   "metadata": {},
   "outputs": [
    {
     "data": {
      "text/plain": [
       "True"
      ]
     },
     "execution_count": 5,
     "metadata": {},
     "output_type": "execute_result"
    }
   ],
   "source": [
    "d = PrefixTree()\n",
    "d.add('in')\n",
    "d.add('inch')"
   ]
  },
  {
   "cell_type": "code",
   "execution_count": 6,
   "metadata": {},
   "outputs": [
    {
     "data": {
      "text/plain": [
       "True"
      ]
     },
     "execution_count": 6,
     "metadata": {},
     "output_type": "execute_result"
    }
   ],
   "source": [
    "'inch' in d"
   ]
  },
  {
   "cell_type": "code",
   "execution_count": null,
   "metadata": {},
   "outputs": [],
   "source": []
  }
 ],
 "metadata": {
  "kernelspec": {
   "display_name": "Python 3",
   "language": "python",
   "name": "python3"
  },
  "language_info": {
   "codemirror_mode": {
    "name": "ipython",
    "version": 3
   },
   "file_extension": ".py",
   "mimetype": "text/x-python",
   "name": "python",
   "nbconvert_exporter": "python",
   "pygments_lexer": "ipython3",
   "version": "3.6.9"
  }
 },
 "nbformat": 4,
 "nbformat_minor": 4
}
