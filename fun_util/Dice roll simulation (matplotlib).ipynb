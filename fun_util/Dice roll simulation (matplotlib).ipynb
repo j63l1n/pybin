{
 "cells": [
  {
   "cell_type": "code",
   "execution_count": null,
   "metadata": {
    "collapsed": true
   },
   "outputs": [],
   "source": [
    "%matplotlib\n",
    "\n",
    "import numpy as np\n",
    "import random\n",
    "import seaborn as sns\n",
    "\n",
    "rolls = [random.randrange(1, 7) for i in range(1900)]\n",
    "\n",
    "values, frequencies = np.unique(rolls, return_counts=True)\n",
    "title = f'Rolling Die {len(rolls):,} Times'\n",
    "\n",
    "# seaborn seaborn.pydata.org\n",
    "sns.set_style('whitegrid')\n",
    "\n",
    "axes = sns.barplot(x=values, y=frequencies, palette='bright')\n",
    "axes.set_title(title)\n",
    "axes.set(xlabel='Val', ylabel='Freq')\n",
    "axes.set_ylim(top=max(frequencies) * 1.10)\n",
    "\n",
    "for bar, freq in zip(axes.patches, frequencies):\n",
    "    text_x = bar.get_x() + bar.get_width() / 2.0\n",
    "    text_y = bar.get_height()\n",
    "    text = f'{freq:,}\\n{freq / len(rolls):.2%}'\n",
    "    # .3% show in percentage with 3 decimals\n",
    "    axes.text(text_x, text_y, text, fontsize=10, ha='center', va='bottom')\n",
    "\n"
   ]
  }
 ],
 "metadata": {
  "kernelspec": {
   "display_name": "Python 3",
   "language": "python",
   "name": "python3"
  },
  "language_info": {
   "codemirror_mode": {
    "name": "ipython",
    "version": 2
   },
   "file_extension": ".py",
   "mimetype": "text/x-python",
   "name": "python",
   "nbconvert_exporter": "python",
   "pygments_lexer": "ipython2",
   "version": "2.7.6"
  }
 },
 "nbformat": 4,
 "nbformat_minor": 0
}