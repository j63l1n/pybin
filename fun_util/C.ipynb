{
 "cells": [
  {
   "cell_type": "code",
   "execution_count": 2,
   "outputs": [],
   "source": [
    "grid2D = [\n",
    "  [2.5,  2.5,  2.5, None, None, None],\n",
    "  [None,  2.5, None, None, None, None],\n",
    "  [None, None, None,  2.5, None, None],\n",
    "  [None, None,  6.5,  8.5, None, None],\n",
    "  [None, None, None, None, None, None],\n",
    "  [None, None, None, 9.0, None,  2.5],\n",
    "  [None, None, None, 8.9,  5.5,  8.5]\n",
    "]\n"
   ],
   "metadata": {
    "collapsed": false,
    "pycharm": {
     "name": "#%%\n"
    }
   }
  },
  {
   "cell_type": "code",
   "execution_count": 3,
   "outputs": [
    {
     "name": "stdout",
     "output_type": "stream",
     "text": [
      "7\n",
      "c=[[2.5, 2.5, 2.5], [2.5], [2.5], [6.5, 8.5], [9.0, 2.5], [8.9, 5.5, 8.5]]\n"
     ]
    }
   ],
   "source": [
    "b = []\n",
    "c = []\n",
    "print(len(grid2D))\n",
    "for i in range(len(grid2D)):\n",
    "    for j in range(len(grid2D[i])):\n",
    "        if grid2D[i][j] is not None :\n",
    "            b.extend([grid2D[i][j]])\n",
    "    if len(b) != 0:\n",
    "        c.append(b)\n",
    "    b=[]\n",
    "print(f'c={c}')\n"
   ],
   "metadata": {
    "collapsed": false,
    "pycharm": {
     "name": "#%%\n"
    }
   }
  }
 ],
 "metadata": {
  "kernelspec": {
   "display_name": "Python 3",
   "language": "python",
   "name": "python3"
  },
  "language_info": {
   "codemirror_mode": {
    "name": "ipython",
    "version": 2
   },
   "file_extension": ".py",
   "mimetype": "text/x-python",
   "name": "python",
   "nbconvert_exporter": "python",
   "pygments_lexer": "ipython2",
   "version": "2.7.6"
  }
 },
 "nbformat": 4,
 "nbformat_minor": 0
}