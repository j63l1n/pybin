{
 "cells": [
  {
   "cell_type": "code",
   "execution_count": 3,
   "metadata": {
    "collapsed": true
   },
   "outputs": [
    {
     "name": "stdout",
     "output_type": "stream",
     "text": [
      "testing\n",
      "i is a\n",
      "i is n\n",
      "i is a\n",
      "i is g\n",
      "i is r\n",
      "i is a\n",
      "i is m\n",
      "1\n"
     ]
    }
   ],
   "source": [
    "class Solution:\n",
    "    def get_character_count(self,s, no_of_chars):\n",
    "        count = [0] * no_of_chars\n",
    "        print(f'testing')\n",
    "        for i in s:\n",
    "            print(f'i is {i}')\n",
    "            count[ord(i)] += 1\n",
    "        return count\n",
    "\n",
    "    def firstUniqChar(self, s: str) -> int:\n",
    "        no_of_chars = 256\n",
    "        count = self.get_character_count(s, no_of_chars)\n",
    "        index = -1\n",
    "        k = 0\n",
    "\n",
    "        for i in s:\n",
    "            if count[ord(i)] == 1:\n",
    "                index = k\n",
    "                break\n",
    "            k += 1\n",
    "        return index\n",
    "\n",
    "string=\"anagram\"\n",
    "first_unique=Solution()\n",
    "index1 = first_unique.firstUniqChar(string)\n",
    "print(index1)"
   ]
  }
 ],
 "metadata": {
  "kernelspec": {
   "display_name": "Python 3",
   "language": "python",
   "name": "python3"
  },
  "language_info": {
   "codemirror_mode": {
    "name": "ipython",
    "version": 2
   },
   "file_extension": ".py",
   "mimetype": "text/x-python",
   "name": "python",
   "nbconvert_exporter": "python",
   "pygments_lexer": "ipython2",
   "version": "2.7.6"
  }
 },
 "nbformat": 4,
 "nbformat_minor": 0
}