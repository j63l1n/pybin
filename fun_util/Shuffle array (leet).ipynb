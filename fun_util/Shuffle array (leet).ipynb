{
 "cells": [
  {
   "cell_type": "code",
   "execution_count": null,
   "metadata": {
    "collapsed": true
   },
   "outputs": [],
   "source": [
    "import random\n",
    "\n",
    "class Solution:\n",
    "    def __init__(self, nums):\n",
    "        self.arr = nums\n",
    "        self.original = list(nums)\n",
    "\n",
    "    def reset(self):\n",
    "        self.arr = self.original\n",
    "        self.original = list(self.original)\n",
    "        return self.arr\n",
    "\n",
    "    def shuffle(self):\n",
    "        aux = list(self.arr)\n",
    "\n",
    "        for idx in range(len(self.arr)):\n",
    "            remove_idx = random.randrange(len(aux))\n",
    "            self.arr[idx] = aux.pop(remove_idx)\n",
    "\n",
    "        return self.arr"
   ]
  }
 ],
 "metadata": {
  "kernelspec": {
   "display_name": "Python 3",
   "language": "python",
   "name": "python3"
  },
  "language_info": {
   "codemirror_mode": {
    "name": "ipython",
    "version": 2
   },
   "file_extension": ".py",
   "mimetype": "text/x-python",
   "name": "python",
   "nbconvert_exporter": "python",
   "pygments_lexer": "ipython2",
   "version": "2.7.6"
  }
 },
 "nbformat": 4,
 "nbformat_minor": 0
}