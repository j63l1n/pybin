{
 "cells": [
  {
   "cell_type": "markdown",
   "metadata": {},
   "source": [
    "<h2>lists</h2>\n",
    "<h3>fibonacci</h3>"
   ]
  },
  {
   "cell_type": "code",
   "execution_count": 30,
   "metadata": {},
   "outputs": [],
   "source": [
    "#bad fibonacci\n",
    "\n",
    "def badfibonacci(n):\n",
    "    # Base case\n",
    "    if n < 2: return 1\n",
    "    \n",
    "    # Action and recursive step\n",
    "    return (badfibonacci(n-1) + badfibonacci(n-2))"
   ]
  },
  {
   "cell_type": "code",
   "execution_count": 31,
   "outputs": [
    {
     "data": {
      "text/plain": "34"
     },
     "execution_count": 31,
     "metadata": {},
     "output_type": "execute_result"
    }
   ],
   "source": [
    "import functools\n",
    "\n",
    "@functools.lru_cache()\n",
    "def fib_lru_cache(n):\n",
    "    \"\"\"fibonacci using LRU cache\"\"\"\n",
    "    if n < 2:\n",
    "        return n\n",
    "    else:\n",
    "        return fib_lru_cache(n - 2) + fib_lru_cache(n - 1)\n",
    "\n",
    "fib_lru_cache(9)"
   ],
   "metadata": {
    "collapsed": false,
    "pycharm": {
     "name": "#%%\n"
    }
   }
  },
  {
   "cell_type": "code",
   "execution_count": 32,
   "outputs": [],
   "source": [
    "\n",
    "def fib(n, computed = {0: 0, 1: 1}):\n",
    "    \"\"\"fibonacci using memoization\"\"\"\n",
    "    if n not in computed:\n",
    "        computed[n] = fib(n-1, computed) + fib(n-2, computed)\n",
    "    return computed[n]"
   ],
   "metadata": {
    "collapsed": false,
    "pycharm": {
     "name": "#%%\n"
    }
   }
  },
  {
   "cell_type": "code",
   "execution_count": 33,
   "metadata": {},
   "outputs": [],
   "source": [
    "def fibonacci(n):\n",
    "    \"\"\"Return first n>=2 elements of fibonacci as list.\"\"\"\n",
    "    a = b = 1\n",
    "    result = [a, b]\n",
    "    while n > 2:\n",
    "        n = n - 1\n",
    "        a,b = b,a+b\n",
    "        result.append(b)\n",
    "    return result\n"
   ]
  },
  {
   "cell_type": "code",
   "execution_count": 34,
   "outputs": [
    {
     "data": {
      "text/plain": "55"
     },
     "execution_count": 34,
     "metadata": {},
     "output_type": "execute_result"
    }
   ],
   "source": [
    "fibonacci(10)\n",
    "fib(10)\n",
    "fib_lru_cache(10)"
   ],
   "metadata": {
    "collapsed": false,
    "pycharm": {
     "name": "#%%\n"
    }
   }
  },
  {
   "cell_type": "code",
   "execution_count": 35,
   "metadata": {},
   "outputs": [],
   "source": [
    "def fibonacci_generator(n):\n",
    "    \"\"\"Return first n>=2 elements of fibonacci as generator.\"\"\"\n",
    "    a = b = 1\n",
    "    yield a\n",
    "    yield b\n",
    "    while n > 2:\n",
    "        n = n - 1\n",
    "        a,b = b,a+b\n",
    "        yield b\n"
   ]
  },
  {
   "cell_type": "code",
   "execution_count": 36,
   "outputs": [
    {
     "name": "stdout",
     "output_type": "stream",
     "text": [
      "1\n",
      "1\n",
      "2\n",
      "3\n",
      "5\n",
      "8\n",
      "13\n",
      "21\n",
      "34\n",
      "55\n"
     ]
    }
   ],
   "source": [
    "for i in fibonacci_generator(10):\n",
    "    print(i)"
   ],
   "metadata": {
    "collapsed": false,
    "pycharm": {
     "name": "#%%\n"
    }
   }
  },
  {
   "cell_type": "code",
   "execution_count": 36,
   "metadata": {},
   "outputs": [],
   "source": []
  }
 ],
 "metadata": {
  "kernelspec": {
   "display_name": "Python 3",
   "language": "python",
   "name": "python3"
  },
  "language_info": {
   "codemirror_mode": {
    "name": "ipython",
    "version": 3
   },
   "file_extension": ".py",
   "mimetype": "text/x-python",
   "name": "python",
   "nbconvert_exporter": "python",
   "pygments_lexer": "ipython3",
   "version": "3.6.9"
  }
 },
 "nbformat": 4,
 "nbformat_minor": 4
}