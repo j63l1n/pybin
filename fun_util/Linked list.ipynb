{
 "cells": [
  {
   "cell_type": "code",
   "execution_count": 6,
   "metadata": {},
   "outputs": [],
   "source": [
    "class LinkedNode:\n",
    "    def __init__(self, value, tail = None):\n",
    "        self.value = value\n",
    "        self.next  = tail"
   ]
  },
  {
   "cell_type": "code",
   "execution_count": 21,
   "metadata": {},
   "outputs": [],
   "source": [
    "class LinkedList:\n",
    "    def __init__(self, *start):\n",
    "        self.head  = None\n",
    "        for _ in start:\n",
    "            self.prepend(_)\n",
    "    \n",
    "    def prepend(self, value):\n",
    "        self.head = LinkedNode(value, self.head)\n",
    "\n",
    "    def pop(self):\n",
    "        if self.head is None:\n",
    "            raise Exception (\"Linked list is empty.\")\n",
    "        val = self.head.value\n",
    "        self.head = self.head.next\n",
    "        return val\n",
    "\n",
    "    def remove(self, value):\n",
    "        \"\"\"Remove value from list.\"\"\"\n",
    "        n = self.head\n",
    "        last = None\n",
    "        while n != None:\n",
    "            if n.value == value:\n",
    "                if last == None:\n",
    "                    self.head = self.head.next\n",
    "                else:\n",
    "                    last.next = n.next\n",
    "                return True\n",
    "            last = n\n",
    "            n = n.next\n",
    "        return False\n",
    "\n",
    "    def __iter__(self):\n",
    "        \"\"\"Iterator of values in the list.\"\"\"\n",
    "        n = self.head\n",
    "        while n != None:\n",
    "            yield n.value\n",
    "            n = n.next\n",
    "        \n",
    "    def __repr__(self):\n",
    "        \"\"\"String representation of linked list.\"\"\"\n",
    "        if self.head is None:\n",
    "            return 'link:[]'\n",
    "\n",
    "        return 'link:[{0:s}]'.format(','.join(map(str,self)))\n",
    "\n",
    "    def __len__(self):\n",
    "        \"\"\"Count values in list.\"\"\"\n",
    "        n = self.head\n",
    "        count = 0\n",
    "        while n != None:\n",
    "            count += 1\n",
    "            n = n.next\n",
    "        return count\n",
    "    \n",
    "\n",
    "    def checkInfinite(self):\n",
    "        \"\"\"Check whether infinite loop\"\"\"\n",
    "        p1 = p2 = self.head\n",
    "        while p1 is not None and p2 is not None :\n",
    "            if p2.next is None : return False\n",
    "            p1 = p1.next\n",
    "            p2 = p2.next.next\n",
    "            \n",
    "            if p1 == p2: return True\n",
    "        return False\n"
   ]
  },
  {
   "cell_type": "code",
   "execution_count": 22,
   "metadata": {},
   "outputs": [
    {
     "name": "stdout",
     "output_type": "stream",
     "text": [
      "3\n",
      "2\n",
      "1\n",
      "8\n",
      "7\n",
      "6\n",
      "5\n",
      "4\n",
      "3\n"
     ]
    }
   ],
   "source": [
    "a = LinkedList(3,4,5,6,7,8)\n",
    "a.prepend(1)\n",
    "a.prepend(2)\n",
    "a.prepend(3)\n",
    "for i in a:\n",
    "    print(i)"
   ]
  },
  {
   "cell_type": "code",
   "execution_count": 23,
   "metadata": {},
   "outputs": [
    {
     "data": {
      "text/plain": [
       "3"
      ]
     },
     "execution_count": 23,
     "metadata": {},
     "output_type": "execute_result"
    }
   ],
   "source": [
    "a.pop()"
   ]
  },
  {
   "cell_type": "code",
   "execution_count": 24,
   "metadata": {},
   "outputs": [
    {
     "data": {
      "text/plain": [
       "link:[1,8,7,6,5,4,3]"
      ]
     },
     "execution_count": 24,
     "metadata": {},
     "output_type": "execute_result"
    }
   ],
   "source": [
    "a.remove(2)\n",
    "a"
   ]
  },
  {
   "cell_type": "code",
   "execution_count": 25,
   "metadata": {},
   "outputs": [
    {
     "data": {
      "text/plain": [
       "7"
      ]
     },
     "execution_count": 25,
     "metadata": {},
     "output_type": "execute_result"
    }
   ],
   "source": [
    "len(a)"
   ]
  },
  {
   "cell_type": "code",
   "execution_count": 26,
   "metadata": {},
   "outputs": [
    {
     "data": {
      "text/plain": [
       "False"
      ]
     },
     "execution_count": 26,
     "metadata": {},
     "output_type": "execute_result"
    }
   ],
   "source": [
    "a.checkInfinite()"
   ]
  },
  {
   "cell_type": "code",
   "execution_count": null,
   "metadata": {},
   "outputs": [],
   "source": []
  }
 ],
 "metadata": {
  "kernelspec": {
   "display_name": "Python 3",
   "language": "python",
   "name": "python3"
  },
  "language_info": {
   "codemirror_mode": {
    "name": "ipython",
    "version": 3
   },
   "file_extension": ".py",
   "mimetype": "text/x-python",
   "name": "python",
   "nbconvert_exporter": "python",
   "pygments_lexer": "ipython3",
   "version": "3.6.9"
  }
 },
 "nbformat": 4,
 "nbformat_minor": 4
}