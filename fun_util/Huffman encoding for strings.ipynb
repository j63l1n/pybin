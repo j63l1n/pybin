{
 "cells": [
  {
   "cell_type": "code",
   "execution_count": 1,
   "metadata": {},
   "outputs": [],
   "source": [
    "import heapq\n",
    "\n",
    "class Node:\n",
    "    def __init__(self, prob, symbol = None):\n",
    "        \"\"\"Create node for given symbol and probability.\"\"\"\n",
    "        self.left = None\n",
    "        self.right = None\n",
    "        self.symbol = symbol\n",
    "        self.prob = prob\n",
    "\n",
    "    # Need comparator method at a minimum to work with heapq\n",
    "    def __lt__(self, other):\n",
    "        return self.prob < other.prob\n",
    "    \n",
    "    def encode(self, encoding):\n",
    "        \"\"\"Return bit encoding in traversal.\"\"\"\n",
    "        if self.left is None and self.right is None:\n",
    "            yield (self.symbol, encoding)\n",
    "        else:\n",
    "            for v in self.left.encode(encoding + '0'):\n",
    "                yield v\n",
    "            for v in self.right.encode(encoding + '1'):\n",
    "                yield v\n"
   ]
  },
  {
   "cell_type": "markdown",
   "metadata": {},
   "source": [
    "<h4> __lt__ defines the behaviour of the less than operator </h4>"
   ]
  },
  {
   "cell_type": "code",
   "execution_count": 4,
   "metadata": {},
   "outputs": [],
   "source": [
    "class Huffman:\n",
    "    def __init__(self, initial):\n",
    "        \"\"\"Construct encoding given initial corpus.\"\"\"\n",
    "        self.initial = initial\n",
    "        \n",
    "        # Count frequencies\n",
    "        freq = {}\n",
    "        for _ in initial:\n",
    "            if _ in freq:\n",
    "                freq[_] += 1\n",
    "            else:\n",
    "                freq[_] = 1\n",
    "\n",
    "        # Construct priority queue\n",
    "        pq = []\n",
    "        for symbol in freq:\n",
    "            pq.append(Node(freq[symbol], symbol))\n",
    "        heapq.heapify(pq)\n",
    "\n",
    "        # special case: what if only one symbol?\n",
    "        if len(pq) == 1:\n",
    "            self.root = Node(1)\n",
    "            self.root.left = pq[0]\n",
    "            self.encoding = {symbol: '0'}\n",
    "            return\n",
    "\n",
    "        # Huffman Encoding Algorithm\n",
    "        while len(pq) > 1:\n",
    "            n1 = heapq.heappop(pq)\n",
    "            n2 = heapq.heappop(pq)\n",
    "            n3 = Node(n1.prob + n2.prob)\n",
    "            n3.left = n1\n",
    "            n3.right = n2\n",
    "            heapq.heappush(pq, n3)\n",
    "\n",
    "        # Record\n",
    "        self.root = pq[0]\n",
    "        self.encoding = {}\n",
    "        for sym,code in pq[0].encode(''):\n",
    "            self.encoding[sym]=code\n",
    "\n",
    "    def __repr__(self):\n",
    "        \"\"\"Show encoding\"\"\"\n",
    "        return 'huffman:' + str(self.encoding)\n",
    "\n",
    "    def encode(self, s):\n",
    "        \"\"\"Return bit string for encoding.\"\"\"\n",
    "        bits = ''\n",
    "        for _ in s:\n",
    "            if not _ in self.encoding:\n",
    "                raise ValueError(\"'\" + _ + \"' is not encoded character\")\n",
    "            bits += self.encoding[_]\n",
    "        return bits\n",
    "\n",
    "    def decode(self, bits):\n",
    "        \"\"\"Decode ASCII bit string for simplicity.\"\"\"\n",
    "        node = self.root\n",
    "        s = ''\n",
    "        for _ in bits:\n",
    "            if _ == '0':\n",
    "                node = node.left\n",
    "            else:\n",
    "                node = node.right\n",
    "\n",
    "            if node.symbol:\n",
    "                s += node.symbol\n",
    "                node = self.root\n",
    "\n",
    "        return s\n",
    "\n"
   ]
  },
  {
   "cell_type": "code",
   "execution_count": 5,
   "metadata": {},
   "outputs": [],
   "source": [
    "h = Huffman('aaabc')"
   ]
  },
  {
   "cell_type": "code",
   "execution_count": 6,
   "metadata": {},
   "outputs": [
    {
     "data": {
      "text/plain": [
       "huffman:{'c': '00', 'b': '01', 'a': '1'}"
      ]
     },
     "execution_count": 6,
     "metadata": {},
     "output_type": "execute_result"
    }
   ],
   "source": [
    "h"
   ]
  },
  {
   "cell_type": "code",
   "execution_count": 8,
   "metadata": {},
   "outputs": [
    {
     "data": {
      "text/plain": [
       "'011010101101010110110101100'"
      ]
     },
     "execution_count": 8,
     "metadata": {},
     "output_type": "execute_result"
    }
   ],
   "source": [
    "h.encode('babbbabbbababbac')"
   ]
  },
  {
   "cell_type": "code",
   "execution_count": 9,
   "metadata": {},
   "outputs": [
    {
     "data": {
      "text/plain": [
       "'babbbabbbababbac'"
      ]
     },
     "execution_count": 9,
     "metadata": {},
     "output_type": "execute_result"
    }
   ],
   "source": [
    "h.decode('011010101101010110110101100')"
   ]
  },
  {
   "cell_type": "code",
   "execution_count": null,
   "metadata": {},
   "outputs": [],
   "source": []
  }
 ],
 "metadata": {
  "kernelspec": {
   "display_name": "Python 3",
   "language": "python",
   "name": "python3"
  },
  "language_info": {
   "codemirror_mode": {
    "name": "ipython",
    "version": 3
   },
   "file_extension": ".py",
   "mimetype": "text/x-python",
   "name": "python",
   "nbconvert_exporter": "python",
   "pygments_lexer": "ipython3",
   "version": "3.6.9"
  }
 },
 "nbformat": 4,
 "nbformat_minor": 4
}
