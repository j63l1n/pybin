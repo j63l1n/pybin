{
 "cells": [
  {
   "cell_type": "code",
   "execution_count": 1,
   "metadata": {},
   "outputs": [
    {
     "ename": "SyntaxError",
     "evalue": "invalid syntax (<ipython-input-1-b63994add4c1>, line 23)",
     "output_type": "error",
     "traceback": [
      "\u001b[0;36m  File \u001b[0;32m\"<ipython-input-1-b63994add4c1>\"\u001b[0;36m, line \u001b[0;32m23\u001b[0m\n\u001b[0;31m    def longestCommonPrefix(self, strs: List[str] -> str)\u001b[0m\n\u001b[0m                                                   ^\u001b[0m\n\u001b[0;31mSyntaxError\u001b[0m\u001b[0;31m:\u001b[0m invalid syntax\n"
     ]
    }
   ],
   "source": [
    "from typing import List\n",
    "\n",
    "class Solution:\n",
    "    def commonPrefixUtil(str1, str2):\n",
    "        n1 = len(str1)\n",
    "        n2 = len(str2)\n",
    "\n",
    "        result = \"\"\n",
    "\n",
    "        # Compare str1 and str2 \n",
    "        j = 0\n",
    "        i = 0\n",
    "        while(i <= n1 - 1 and j <= n2 - 1):\n",
    "            if (str1[i] != str2[j]):\n",
    "                break\n",
    "            result += (str1[i])\n",
    "\n",
    "            i += 1\n",
    "            j += 1\n",
    "\n",
    "        return (result)\n",
    "\n",
    "    def longestCommonPrefix(self, strs: List[str] -> str)\n",
    "\n",
    "\n",
    "        # sorts the N set of strings \n",
    "        strs.sort(reverse = False)\n",
    "\n",
    "        # prints the common prefix of the first  \n",
    "        # and the last string of the set of strings \n",
    "        return commonPrefixUtil(arr[0], arr[n - 1]))\n",
    "\n",
    "    # Driver Code \n",
    "    if __name__ == '__main__':\n",
    "    #    arr = [\"geeksforgeeks\", \"geeks\", \"geek\", \"geezer\"]\n",
    "        arr = [\"flower\", \"flow\", \"flight\"]\n",
    "        n = len(arr)\n",
    "\n",
    "        commonPrefix(arr, n)\n"
   ]
  },
  {
   "cell_type": "code",
   "execution_count": null,
   "metadata": {},
   "outputs": [],
   "source": []
  }
 ],
 "metadata": {
  "kernelspec": {
   "display_name": "Python 3",
   "language": "python",
   "name": "python3"
  },
  "language_info": {
   "codemirror_mode": {
    "name": "ipython",
    "version": 3
   },
   "file_extension": ".py",
   "mimetype": "text/x-python",
   "name": "python",
   "nbconvert_exporter": "python",
   "pygments_lexer": "ipython3",
   "version": "3.6.9"
  }
 },
 "nbformat": 4,
 "nbformat_minor": 4
}
