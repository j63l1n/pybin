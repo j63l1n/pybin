{
 "cells": [
  {
   "cell_type": "code",
   "execution_count": 1,
   "metadata": {},
   "outputs": [
    {
     "name": "stdout",
     "output_type": "stream",
     "text": [
      "stack:[3]\n"
     ]
    }
   ],
   "source": [
    "class Stack:\n",
    "    def __init__(self):\n",
    "       self.stack = []\n",
    "\n",
    "    def isEmpty(self):\n",
    "        return len(self.stack) == 0\n",
    "\n",
    "    def push(self, v):\n",
    "        \"\"\"O(1) performance. (append to end)\"\"\"\n",
    "        self.stack.append(v)\n",
    "\n",
    "    def pop(self):\n",
    "        \"\"\"O(1) performance. (end of list)\"\"\"\n",
    "        if self.isEmpty():\n",
    "            raise Exception('Stack is empty.')\n",
    "        return self.stack.pop()\n",
    "\n",
    "    def __repr__(self):\n",
    "        return \"stack:\" + str(self.stack)\n",
    "\n",
    "    \n",
    "if __name__ == '__main__':\n",
    "        x = Stack()\n",
    "        x.push(3)\n",
    "        print(x)\n",
    "        "
   ]
  },
  {
   "cell_type": "markdown",
   "metadata": {},
   "source": [
    "* Separate structure from behaviour"
   ]
  },
  {
   "cell_type": "code",
   "execution_count": 1,
   "metadata": {},
   "outputs": [],
   "source": []
  }
 ],
 "metadata": {
  "kernelspec": {
   "display_name": "Python 3",
   "language": "python",
   "name": "python3"
  },
  "language_info": {
   "codemirror_mode": {
    "name": "ipython",
    "version": 3
   },
   "file_extension": ".py",
   "mimetype": "text/x-python",
   "name": "python",
   "nbconvert_exporter": "python",
   "pygments_lexer": "ipython3",
   "version": "3.6.9"
  }
 },
 "nbformat": 4,
 "nbformat_minor": 4
}