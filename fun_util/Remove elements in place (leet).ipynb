{
 "cells": [
  {
   "cell_type": "code",
   "execution_count": null,
   "metadata": {
    "collapsed": true,
    "pycharm": {
     "name": "#%%\n"
    }
   },
   "outputs": [],
   "source": [
    "from typing import List\n",
    "class Solution:\n",
    "\n",
    "    def remove_elements(self, nums: List[int], val: int) -> int:\n",
    "        n = len(nums)\n",
    "        i = 0\n",
    "\n",
    "        while i < n:\n",
    "            if nums[i] == val:\n",
    "                nums[i] = nums[n - 1]\n",
    "                n -= 1\n",
    "            else:\n",
    "                i += 1\n",
    "\n",
    "        return n"
   ]
  }
 ],
 "metadata": {
  "kernelspec": {
   "display_name": "Python 3",
   "language": "python",
   "name": "python3"
  },
  "language_info": {
   "codemirror_mode": {
    "name": "ipython",
    "version": 2
   },
   "file_extension": ".py",
   "mimetype": "text/x-python",
   "name": "python",
   "nbconvert_exporter": "python",
   "pygments_lexer": "ipython2",
   "version": "2.7.6"
  }
 },
 "nbformat": 4,
 "nbformat_minor": 0
}