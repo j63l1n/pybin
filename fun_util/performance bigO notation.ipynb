{
 "cells": [
  {
   "cell_type": "code",
   "execution_count": 10,
   "metadata": {},
   "outputs": [
    {
     "name": "stdout",
     "output_type": "stream",
     "text": [
      "2 0.064872\n",
      "4 0.089844\n",
      "8 0.155322\n",
      "16 0.312586\n",
      "32 0.535828\n",
      "64 1.177853\n",
      "128 2.650566\n",
      "256 5.608064\n"
     ]
    }
   ],
   "source": [
    "import random\n",
    "import timeit\n",
    "\n",
    "for trial in [2**_ for _ in range(1,9)]:\n",
    "    numbers = [random.randint(1,9) for _ in range(trial)]\n",
    "    m = timeit.timeit(stmt='sum = 0\\nfor d in numbers:\\n\\tsum = sum + d',\n",
    "                      setup='import random\\nnumbers = ' + str(numbers))\n",
    "    print ('{0:d} {1:f}'.format(trial, m))\n",
    "                     "
   ]
  },
  {
   "cell_type": "markdown",
   "metadata": {},
   "source": [
    "<h2>order n O(n)</h2>"
   ]
  },
  {
   "cell_type": "code",
   "execution_count": 11,
   "metadata": {},
   "outputs": [],
   "source": [
    "def uniqueCheckFast(aList):\n",
    "    \"\"\"Return True if aList contains any duplicates. It completes in O(n) time with O(n)\n",
    "    space requried. Individual elements must be hashable\"\"\"\n",
    "    check = set()\n",
    "    for v in aList:\n",
    "        if v in check:\n",
    "            return True\n",
    "        check.add(v)\n",
    "    return False"
   ]
  },
  {
   "cell_type": "markdown",
   "metadata": {},
   "source": [
    "<h3>Slower version with nested for loop</h3>"
   ]
  },
  {
   "cell_type": "code",
   "execution_count": 14,
   "metadata": {},
   "outputs": [],
   "source": [
    "def uniqueCheckSlow(aList):\n",
    "    \"\"\"\n",
    "    Returns True if aList contains any duplicates. Completes in O(n^2) time with no space \n",
    "    required.\n",
    "    \"\"\"\n",
    "    for i in range(len(aList)-1):\n",
    "        for j in range(i+1, len(aList)):\n",
    "            if aList[i] == aList[j]:\n",
    "                return True\n",
    "        return False"
   ]
  },
  {
   "cell_type": "code",
   "execution_count": 15,
   "metadata": {},
   "outputs": [
    {
     "data": {
      "text/plain": [
       "False"
      ]
     },
     "execution_count": 15,
     "metadata": {},
     "output_type": "execute_result"
    }
   ],
   "source": [
    "uniqueCheckFast([2,3,4,5,6,6])"
   ]
  },
  {
   "cell_type": "code",
   "execution_count": 16,
   "metadata": {},
   "outputs": [
    {
     "data": {
      "text/plain": [
       "False"
      ]
     },
     "execution_count": 16,
     "metadata": {},
     "output_type": "execute_result"
    }
   ],
   "source": [
    "uniqueCheckSlow([2,3,4,5,6,6])"
   ]
  },
  {
   "cell_type": "code",
   "execution_count": 13,
   "metadata": {},
   "outputs": [
    {
     "data": {
      "text/plain": [
       "False"
      ]
     },
     "execution_count": 13,
     "metadata": {},
     "output_type": "execute_result"
    }
   ],
   "source": [
    "uniqueCheckFast([2,3,4])"
   ]
  },
  {
   "cell_type": "code",
   "execution_count": 17,
   "metadata": {},
   "outputs": [
    {
     "data": {
      "text/plain": [
       "False"
      ]
     },
     "execution_count": 17,
     "metadata": {},
     "output_type": "execute_result"
    }
   ],
   "source": [
    "uniqueCheckSlow([2,3,4])"
   ]
  },
  {
   "cell_type": "code",
   "execution_count": 18,
   "metadata": {},
   "outputs": [
    {
     "name": "stdout",
     "output_type": "stream",
     "text": [
      "N\tSlow     \tFast\n",
      "2\t0.000491\t0.000306\n",
      "4\t0.000971\t0.000412\n",
      "8\t0.002373\t0.000766\n",
      "16\t0.006967\t0.001471\n",
      "32\t0.021498\t0.003114\n",
      "64\t0.073182\t0.006194\n",
      "128\t0.294011\t0.013017\n",
      "256\t1.189269\t0.024808\n",
      "512\t5.293650\t0.053297\n"
     ]
    }
   ],
   "source": [
    "import random\n",
    "import timeit\n",
    "\n",
    "def uniqueCheckFast(aList):\n",
    "    \"\"\"\n",
    "    Return True if aList contains any duplicates. Its contents are not\n",
    "    altered and completes in O(n) time with O(n) space required. The\n",
    "    individual elements must be hashable.\n",
    "    \"\"\"\n",
    "    check = set()\n",
    "    for v in aList:\n",
    "        if v in check:\n",
    "            return True\n",
    "        check.add(v)\n",
    "    return False\n",
    "\n",
    "def uniqueCheckSlow(aList):\n",
    "    \"\"\"\n",
    "    Return True if aList contains any duplicates. Its contents are not\n",
    "    altered and completes in O(n^2) time with no space required. \n",
    "    \"\"\"\n",
    "    for i in range(len(aList)-1):\n",
    "        for j in range(i+1, len(aList)):\n",
    "            if aList[i] == aList[j]:\n",
    "                return True\n",
    "    return False\n",
    "\n",
    "print ('N\\tSlow     \\tFast')\n",
    "for trial in [2**_ for _ in range(1,10)]:\n",
    "    numbers = [random.random() for _ in range(trial)]\n",
    "    mSlow = timeit.timeit(stmt='uniqueCheckSlow(numbers)',\n",
    "                  setup='import random\\nfrom __main__ import uniqueCheckSlow\\nnumbers = ' + str(numbers),\n",
    "                  number=1000)\n",
    "    mFast = timeit.timeit(stmt='uniqueCheckFast(numbers)',\n",
    "                  setup='import random\\nfrom __main__ import uniqueCheckFast\\nnumbers = ' + str(numbers),\n",
    "                  number=1000)\n",
    "\n",
    "    print ('{0:d}\\t{1:f}\\t{2:f}'.format(trial, mSlow, mFast))\n",
    "\n"
   ]
  },
  {
   "cell_type": "code",
   "execution_count": null,
   "metadata": {},
   "outputs": [],
   "source": []
  }
 ],
 "metadata": {
  "kernelspec": {
   "display_name": "Python 3",
   "language": "python",
   "name": "python3"
  },
  "language_info": {
   "codemirror_mode": {
    "name": "ipython",
    "version": 3
   },
   "file_extension": ".py",
   "mimetype": "text/x-python",
   "name": "python",
   "nbconvert_exporter": "python",
   "pygments_lexer": "ipython3",
   "version": "3.6.9"
  }
 },
 "nbformat": 4,
 "nbformat_minor": 4
}
