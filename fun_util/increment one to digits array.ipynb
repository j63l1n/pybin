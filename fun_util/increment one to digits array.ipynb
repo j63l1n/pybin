{
 "cells": [
  {
   "cell_type": "code",
   "execution_count": null,
   "metadata": {
    "collapsed": true
   },
   "outputs": [],
   "source": []
  },
  {
   "cell_type": "code",
   "execution_count": null,
   "outputs": [],
   "source": [
    "# PlusOne (add 1 to the end of an array)\n",
    "from typing import List\n",
    "\n",
    "class Solution:\n",
    "\n",
    "    def find_carry(self,digits, index):\n",
    "        digits[index] += 1\n",
    "        carry_over = digits[index] / 10\n",
    "        digits[index] = digits[index] % 10\n",
    "        return carry_over\n",
    "\n",
    "    def plusOne(self, digits: List[int]) -> List[int]:\n",
    "        n = len(digits) -1\n",
    "        carry = self.find_carry(digits, n)\n",
    "\n",
    "        for i in range(n-1, -1, -1):\n",
    "            if carry == 1:\n",
    "                carry = self.find_carry(digits,i)\n",
    "\n",
    "        if carry == 1:\n",
    "            digits.insert(0, 1)\n",
    "\n",
    "        return digits\n",
    "\n",
    "\n",
    "arrayplus = Solution()\n",
    "#digits = [1,2,3]\n",
    "digits = [4,3,2,1]\n",
    "#digits = [0]"
   ],
   "metadata": {
    "collapsed": false,
    "pycharm": {
     "name": "#%%\n"
    }
   }
  }
 ],
 "metadata": {
  "kernelspec": {
   "display_name": "Python 3",
   "language": "python",
   "name": "python3"
  },
  "language_info": {
   "codemirror_mode": {
    "name": "ipython",
    "version": 2
   },
   "file_extension": ".py",
   "mimetype": "text/x-python",
   "name": "python",
   "nbconvert_exporter": "python",
   "pygments_lexer": "ipython2",
   "version": "2.7.6"
  }
 },
 "nbformat": 4,
 "nbformat_minor": 0
}