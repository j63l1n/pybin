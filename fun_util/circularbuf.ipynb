{
 "cells": [
  {
   "cell_type": "code",
   "execution_count": 24,
   "metadata": {},
   "outputs": [],
   "source": [
    "class CircularBuffer:\n",
    "    \n",
    "    def __init__(self, size):\n",
    "        self.buffer = [None]*size\n",
    "        self.low = 0\n",
    "        self.high = 0\n",
    "        self.size = size\n",
    "        self.count = 0\n",
    "\n",
    "    def isEmpty(self):\n",
    "        return self.count == 0\n",
    "\n",
    "    def isFull(self):\n",
    "        return self.count == self.size\n",
    "\n",
    "    def __len__(self):\n",
    "        return self.count\n",
    "\n",
    "    def add(self, value):\n",
    "        if self.isFull():\n",
    "            self.low = (self.low+1) % self.size\n",
    "        else:\n",
    "            self.count += 1\n",
    "        self.buffer[self.high] = value\n",
    "        self.high = (self.high + 1) % self.size\n",
    "\n",
    "    def delete(self):\n",
    "        if self.count == 0:\n",
    "            raise Exception (\"Buffer empty\");\n",
    "        value = self.buffer[self.low]\n",
    "        self.low = (self.low + 1) % self.size\n",
    "        self.count -= 1\n",
    "        return value\n",
    "\n",
    "    def __iter__(self):\n",
    "        idx = self.low\n",
    "        num = self.count\n",
    "        while num > 0:\n",
    "            yield self.buffer[idx]\n",
    "            idx = (idx + 1) % self.size\n",
    "            num -= 1\n",
    "\n",
    "    def __repr__(self):\n",
    "        if self.isEmpty():\n",
    "            return 'circularbuf:[]'\n",
    "\n",
    "        return 'circularbuf:[' + ','.join(map(str,self)) + ']'"
   ]
  },
  {
   "cell_type": "code",
   "execution_count": 25,
   "metadata": {},
   "outputs": [],
   "source": [
    "c=CircularBuffer(5)"
   ]
  },
  {
   "cell_type": "code",
   "execution_count": 26,
   "metadata": {},
   "outputs": [
    {
     "data": {
      "text/plain": [
       "circularbuf:[]"
      ]
     },
     "execution_count": 26,
     "metadata": {},
     "output_type": "execute_result"
    }
   ],
   "source": [
    "c"
   ]
  },
  {
   "cell_type": "code",
   "execution_count": 27,
   "metadata": {},
   "outputs": [],
   "source": [
    "c.add(4)\n",
    "c.add(4)\n",
    "c.add(5)\n",
    "c.add(15)\n",
    "c.add(43)\n",
    "c.add(65)"
   ]
  },
  {
   "cell_type": "code",
   "execution_count": 28,
   "metadata": {},
   "outputs": [
    {
     "data": {
      "text/plain": [
       "[65, 4, 5, 15, 43]"
      ]
     },
     "execution_count": 28,
     "metadata": {},
     "output_type": "execute_result"
    }
   ],
   "source": [
    "c.buffer"
   ]
  },
  {
   "cell_type": "code",
   "execution_count": 29,
   "metadata": {},
   "outputs": [
    {
     "data": {
      "text/plain": [
       "1"
      ]
     },
     "execution_count": 29,
     "metadata": {},
     "output_type": "execute_result"
    }
   ],
   "source": [
    "c.low"
   ]
  },
  {
   "cell_type": "code",
   "execution_count": 30,
   "metadata": {},
   "outputs": [],
   "source": [
    "c.add(44)"
   ]
  },
  {
   "cell_type": "code",
   "execution_count": 31,
   "metadata": {},
   "outputs": [
    {
     "data": {
      "text/plain": [
       "[65, 44, 5, 15, 43]"
      ]
     },
     "execution_count": 31,
     "metadata": {},
     "output_type": "execute_result"
    }
   ],
   "source": [
    "c.buffer"
   ]
  },
  {
   "cell_type": "code",
   "execution_count": 32,
   "metadata": {},
   "outputs": [
    {
     "data": {
      "text/plain": [
       "2"
      ]
     },
     "execution_count": 32,
     "metadata": {},
     "output_type": "execute_result"
    }
   ],
   "source": [
    "c.low"
   ]
  },
  {
   "cell_type": "code",
   "execution_count": 33,
   "metadata": {},
   "outputs": [
    {
     "data": {
      "text/plain": [
       "2"
      ]
     },
     "execution_count": 33,
     "metadata": {},
     "output_type": "execute_result"
    }
   ],
   "source": [
    "c.high"
   ]
  },
  {
   "cell_type": "code",
   "execution_count": 34,
   "metadata": {},
   "outputs": [
    {
     "data": {
      "text/plain": [
       "circularbuf:[5,15,43,65,44]"
      ]
     },
     "execution_count": 34,
     "metadata": {},
     "output_type": "execute_result"
    }
   ],
   "source": [
    "c"
   ]
  },
  {
   "cell_type": "markdown",
   "metadata": {},
   "source": [
    "<b>Read-only operations</b><br>\n",
    "isEmpty,isFull,__len__ all O(1) (order one operation)<br>\n",
    "<b>Modifying</b><br>\n",
    "add(v), remove() also all O(1)<br>\n",
    "<b>Iterator</b> used by in also O(n) (linear)<br>"
   ]
  },
  {
   "cell_type": "markdown",
   "metadata": {},
   "source": [
    "<hl>\n",
    "<h3>Extending Circular buffer (superclass) for Moving Average</h3>"
   ]
  },
  {
   "cell_type": "code",
   "execution_count": 35,
   "metadata": {},
   "outputs": [],
   "source": [
    "class MovingAverage(CircularBuffer):\n",
    "\n",
    "    def __init__(self, size):\n",
    "        CircularBuffer.__init__(self, size)\n",
    "        self.total = 0\n",
    "\n",
    "    def getAverage(self):\n",
    "        if self.count == 0:\n",
    "            return 0\n",
    "        return self.total/self.count\n",
    "\n",
    "    def delete(self):\n",
    "        deleted = CircularBuffer.delete(self)\n",
    "        self.total -= deleted\n",
    "        return deleted\n",
    "\n",
    "    def add(self, value):\n",
    "        if self.isFull():\n",
    "            self.total -= self.buffer[self.low]\n",
    "\n",
    "        self.total += value\n",
    "        CircularBuffer.add(self,value)\n",
    "\n",
    "    def __repr__(self):\n",
    "        if self.isEmpty():\n",
    "            return 'movingaverage:[]'\n",
    "\n",
    "        return 'movingaverage:[' + ','.join(map(str,self)) + ']:' + str(self.getAverage())\n"
   ]
  },
  {
   "cell_type": "code",
   "execution_count": 36,
   "metadata": {},
   "outputs": [],
   "source": [
    "ma=MovingAverage(9)"
   ]
  },
  {
   "cell_type": "code",
   "execution_count": 37,
   "metadata": {},
   "outputs": [],
   "source": [
    "ma.add(34)\n",
    "ma.add(33)\n",
    "ma.add(31)"
   ]
  },
  {
   "cell_type": "code",
   "execution_count": 38,
   "metadata": {},
   "outputs": [
    {
     "data": {
      "text/plain": [
       "movingaverage:[34,33,31]:32.666666666666664"
      ]
     },
     "execution_count": 38,
     "metadata": {},
     "output_type": "execute_result"
    }
   ],
   "source": [
    "ma"
   ]
  },
  {
   "cell_type": "code",
   "execution_count": 39,
   "metadata": {},
   "outputs": [
    {
     "data": {
      "text/plain": [
       "movingaverage:[33,31]:32.0"
      ]
     },
     "execution_count": 39,
     "metadata": {},
     "output_type": "execute_result"
    }
   ],
   "source": [
    "ma.delete()\n",
    "ma"
   ]
  },
  {
   "cell_type": "code",
   "execution_count": 40,
   "metadata": {},
   "outputs": [
    {
     "data": {
      "text/plain": [
       "64"
      ]
     },
     "execution_count": 40,
     "metadata": {},
     "output_type": "execute_result"
    }
   ],
   "source": [
    "ma.total"
   ]
  }
 ],
 "metadata": {
  "kernelspec": {
   "display_name": "Python 3",
   "language": "python",
   "name": "python3"
  },
  "language_info": {
   "codemirror_mode": {
    "name": "ipython",
    "version": 3
   },
   "file_extension": ".py",
   "mimetype": "text/x-python",
   "name": "python",
   "nbconvert_exporter": "python",
   "pygments_lexer": "ipython3",
   "version": "3.6.9"
  }
 },
 "nbformat": 4,
 "nbformat_minor": 4
}
