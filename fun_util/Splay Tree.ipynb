{
 "cells": [
  {
   "cell_type": "code",
   "execution_count": 3,
   "metadata": {},
   "outputs": [],
   "source": [
    "import sys\n",
    "\n",
    "class Node:\n",
    "    def __init__(self,data):\n",
    "        self.data = data\n",
    "        self.parent = None\n",
    "        self.left = None\n",
    "        self.right = None"
   ]
  },
  {
   "cell_type": "code",
   "execution_count": null,
   "metadata": {},
   "outputs": [],
   "source": [
    "class SplayTree:\n",
    "    def __init__(self):\n",
    "        self.root = None\n",
    "        \n",
    "    def __print_helper(self, currPtr, indent, last):\n",
    "        if currPtr != None:\n",
    "            sys.stdout.write(indent)\n",
    "        if last:\n",
    "            sys.stdout.write(\"R----\")\n",
    "            indent += \"     \"\n",
    "        else:\n",
    "            sys.stdout.write(\"L----\")\n",
    "            indent += \"|    \"\n",
    "        \n",
    "        print(f'{currPtr.data}')\n",
    "        \n",
    "        self.__print_helper(currPtr.left, indent, False)\n",
    "        self.__print_helper(currPtr.right, indent, True)"
   ]
  }
 ],
 "metadata": {
  "kernelspec": {
   "display_name": "Python 3",
   "language": "python",
   "name": "python3"
  },
  "language_info": {
   "codemirror_mode": {
    "name": "ipython",
    "version": 3
   },
   "file_extension": ".py",
   "mimetype": "text/x-python",
   "name": "python",
   "nbconvert_exporter": "python",
   "pygments_lexer": "ipython3",
   "version": "3.6.9"
  }
 },
 "nbformat": 4,
 "nbformat_minor": 4
}
