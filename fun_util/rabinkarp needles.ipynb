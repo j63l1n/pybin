{
 "cells": [
  {
   "cell_type": "code",
   "execution_count": null,
   "metadata": {
    "collapsed": true,
    "pycharm": {
     "name": "#%%\n"
    }
   },
   "outputs": [],
   "source": [
    "#rabin-karp constant-time slicing using hash\n",
    "\n",
    "class Solution:\n",
    "    def strStr(self, haystack: str, needle: str) -> int:\n",
    "        L, n = len(needle), len(haystack)\n",
    "        if L > n:\n",
    "            return -1\n",
    "\n",
    "        # base value for the rolling hash function\n",
    "        a = 26\n",
    "        # modulus value for the rolling hash function to avoid overflow\n",
    "        modulus = 2**31\n",
    "\n",
    "        # lambda-function to convert character to integer\n",
    "        h_to_int = lambda i : ord(haystack[i]) - ord('a')\n",
    "        needle_to_int = lambda i : ord(needle[i]) - ord('a')\n",
    "\n",
    "        # compute the hash of strings haystack[:L], needle[:L]\n",
    "        h = ref_h = 0\n",
    "        for i in range(L):\n",
    "            h = (h * a + h_to_int(i)) % modulus\n",
    "            ref_h = (ref_h * a + needle_to_int(i)) % modulus\n",
    "        if h == ref_h:\n",
    "            return 0\n",
    "\n",
    "        # const value to be used often : a**L % modulus\n",
    "        aL = pow(a, L, modulus)\n",
    "        for start in range(1, n - L + 1):\n",
    "            # compute rolling hash in O(1) time\n",
    "            h = (h * a - h_to_int(start - 1) * aL + h_to_int(start + L - 1)) % modulus\n",
    "            if h == ref_h:\n",
    "                return start\n",
    "\n",
    "        return -1\n"
   ]
  }
 ],
 "metadata": {
  "kernelspec": {
   "display_name": "Python 3",
   "language": "python",
   "name": "python3"
  },
  "language_info": {
   "codemirror_mode": {
    "name": "ipython",
    "version": 2
   },
   "file_extension": ".py",
   "mimetype": "text/x-python",
   "name": "python",
   "nbconvert_exporter": "python",
   "pygments_lexer": "ipython2",
   "version": "2.7.6"
  }
 },
 "nbformat": 4,
 "nbformat_minor": 0
}