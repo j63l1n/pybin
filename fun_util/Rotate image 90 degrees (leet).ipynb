{
 "cells": [
  {
   "cell_type": "code",
   "execution_count": null,
   "metadata": {
    "collapsed": true
   },
   "outputs": [],
   "source": [
    "from typing import List\n",
    "\n",
    "class Solution:\n",
    "    def rotate(self, matrix: List[List[int]]) -> None:\n",
    "        \"\"\"\n",
    "        Do not return anything, modify matrix in-place instead.\n",
    "        \"\"\"\n",
    "        width = len(matrix) -1\n",
    "        cur_y = 0\n",
    "\n",
    "        while cur_y < width:\n",
    "            cur_x = cur_y\n",
    "            pos_y = width - cur_y\n",
    "            while cur_x < pos_y:\n",
    "                pos_x = width - cur_x\n",
    "                temp = matrix[cur_y][cur_x]\n",
    "                matrix[cur_y][cur_x] = matrix[pos_x][cur_y]\n",
    "                matrix[pos_x][cur_y] = matrix[pos_y][pos_x]\n",
    "                matrix[pos_y][pos_x] = matrix[cur_x][pos_y]\n",
    "                matrix[cur_x][pos_y] = temp\n",
    "                cur_x += 1\n",
    "            cur_y += 1\n",
    "\n",
    "\n",
    "mymatrix = Solution()\n",
    "mx =  [[1,2],[3,4]]\n",
    "mymatrix.rotate(mx)\n",
    "print(mx)"
   ]
  }
 ],
 "metadata": {
  "kernelspec": {
   "display_name": "Python 3",
   "language": "python",
   "name": "python3"
  },
  "language_info": {
   "codemirror_mode": {
    "name": "ipython",
    "version": 2
   },
   "file_extension": ".py",
   "mimetype": "text/x-python",
   "name": "python",
   "nbconvert_exporter": "python",
   "pygments_lexer": "ipython2",
   "version": "2.7.6"
  }
 },
 "nbformat": 4,
 "nbformat_minor": 0
}