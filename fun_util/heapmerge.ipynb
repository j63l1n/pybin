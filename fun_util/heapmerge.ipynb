{
 "cells": [
  {
   "cell_type": "code",
   "execution_count": null,
   "metadata": {
    "collapsed": true
   },
   "outputs": [],
   "source": [
    "\n",
    "import heapq\n",
    "import random\n",
    "\n",
    "\n",
    "random.seed(2016)\n",
    "\n",
    "data = []\n",
    "for i in range(4):\n",
    "    new_data = list(random.sample(range(1, 101), 5))\n",
    "    new_data.sort()\n",
    "    data.append(new_data)\n",
    "\n",
    "for i, d in enumerate(data):\n",
    "    print('yep -> {}: {}'.format(i, d))\n",
    "\n",
    "print('\\nMerged:')\n",
    "\n",
    "for i in heapq.merge(*data):\n",
    "    print(i, end=' ')\n",
    "print()"
   ]
  }
 ],
 "metadata": {
  "kernelspec": {
   "display_name": "Python 3",
   "language": "python",
   "name": "python3"
  },
  "language_info": {
   "codemirror_mode": {
    "name": "ipython",
    "version": 2
   },
   "file_extension": ".py",
   "mimetype": "text/x-python",
   "name": "python",
   "nbconvert_exporter": "python",
   "pygments_lexer": "ipython2",
   "version": "2.7.6"
  }
 },
 "nbformat": 4,
 "nbformat_minor": 0
}